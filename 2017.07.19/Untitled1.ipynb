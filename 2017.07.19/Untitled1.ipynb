{
 "metadata": {
  "name": ""
 },
 "nbformat": 3,
 "nbformat_minor": 0,
 "worksheets": [
  {
   "cells": [
    {
     "cell_type": "code",
     "collapsed": false,
     "input": [
      "df = ((spark\n",
      "          .read\n",
      "          .options(delimiter=',',header='true',inferschema='true')\n",
      "          .csv(\"/home/kkotov/work/trigger/pt/oldSim.csv\", header=True, mode=\"DROPMALFORMED\"))\n",
      "      .rdd\n",
      "      .filter(lambda x: abs(x[10]) > 0.9))"
     ],
     "language": "python",
     "metadata": {},
     "outputs": [],
     "prompt_number": 31
    },
    {
     "cell_type": "code",
     "collapsed": false,
     "input": [
      "%matplotlib inline\n",
      "\n",
      "import matplotlib.pyplot as plt\n",
      "import numpy as np\n",
      "\n",
      "plt.close()\n",
      "fig, ax0 = plt.subplots(figsize=(10.5, 6), facecolor='white', edgecolor='white')\n",
      "\n",
      "ax0.hist( [ i.asDict()['mode[0]'] for i in df.take(10000) ], 100 )\n",
      "pass\n",
      "\n",
      "mode15 = df.filter(lambda row: row[19]==15)\n",
      "\n",
      "mu15_1 = mode15.map(lambda row: (row[6],[row[20],row[22],row[24],row[26],row[28],row[30],row[32],row[34],row[36],row[38],row[40],row[42],row[44],row[46],row[48],row[50],row[52],row[54],row[56],row[58],row[60],row[62],row[64],row[66],row[68],row[70],row[72],row[74],row[76],row[78]]))\n",
      "mu15_2 = mode15.map(lambda row: (row[6],[row[21],row[23],row[25],row[27],row[29],row[31],row[33],row[35],row[37],row[39],row[41],row[43],row[45],row[47],row[49],row[51],row[53],row[55],row[57],row[59],row[61],row[63],row[65],row[67],row[69],row[71],row[73],row[75],row[77],row[79]]))\n",
      "mu15 = mu15_1.union(mu15_2)\n",
      "\n",
      "print mu15.count()\n"
     ],
     "language": "python",
     "metadata": {},
     "outputs": [
      {
       "output_type": "stream",
       "stream": "stdout",
       "text": [
        "363758\n"
       ]
      },
      {
       "metadata": {},
       "output_type": "display_data",
       "png": "[encoded data removed]",
       "text": [
        "<matplotlib.figure.Figure at 0x7f9e726ba450>"
       ]
      }
     ],
     "prompt_number": 40
    },
    {
     "cell_type": "code",
     "collapsed": false,
     "input": [
      "print mu15.take(10)[0:3]"
     ],
     "language": "python",
     "metadata": {},
     "outputs": [
      {
       "output_type": "stream",
       "stream": "stdout",
       "text": [
        "[(153.644, [9, 1, 5, 4, 8, -1, 3, 4, 2, 2, 2, 2, 2, 2, 23, 25, 6, 8, 1, 2, 1, 0, 0, 0, 1, 1, 0, 0, 0, 1]), (21.5009, [12, 1, 20, 24, 20, 4, 0, -4, 2, 2, 2, 2, 2, 2, 64, 72, 0, 8, 1, 1, 1, 2, 1, 1, 0, 0, 0, 0, 0, 0]), (348.674, [6, 0, 2, 8, 4, 6, 2, -4, 2, 1, 2, 2, 2, 1, 18, 26, 8, 8, 1, 1, 0, 1, 0, 0, 1, 1, 0, 0, 1, 0])]\n"
       ]
      }
     ],
     "prompt_number": 43
    },
    {
     "cell_type": "code",
     "collapsed": false,
     "input": [],
     "language": "python",
     "metadata": {},
     "outputs": []
    }
   ],
   "metadata": {}
  }
 ]
}