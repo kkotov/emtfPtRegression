{
 "metadata": {
  "name": "Untitled0"
 },
 "nbformat": 3,
 "nbformat_minor": 0,
 "worksheets": [
  {
   "cells": [
    {
     "cell_type": "code",
     "collapsed": false,
     "input": "import numpy as np\nimport pandas as pd\nimport matplotlib.pyplot as plt\n\ndf = pd.read_csv('/home/kkotov/work/trigger/pt/oldSim.csv')\n#[\"mode.0.\"].\ndf.tail(3)",
     "language": "python",
     "metadata": {},
     "outputs": [
      {
       "metadata": {},
       "output_type": "pyout",
       "prompt_number": 14,
       "text": "<pyspark.sql.context.SQLContext at 0x7f1d75e980d0>"
      }
     ],
     "prompt_number": 14
    },
    {
     "cell_type": "code",
     "collapsed": false,
     "input": "rawData = (sc\n               .textFile('/home/kkotov/work/trigger/pt/oldSim.csv')\n               .map(lambda x: x.replace('\\t', ',')))  # work with either ',' or '\\t' separated data\n\nprint rawData.take(2)\n",
     "language": "python",
     "metadata": {},
     "outputs": [
      {
       "output_type": "stream",
       "stream": "stdout",
       "text": "[u'entry,numberOfEMTFTracks,pt[0],pt[1],ptXML[0],ptXML[1],muPtGen[0],muPtGen[1],eta_glob[0],eta_glob[1],muEtaGen[0],muEtaGen[1],phi_glob[0],phi_glob[1],muPhiGen[0],muPhiGen[1],address[0],address[1],mode[0],mode[1],theta[0],theta[1],st1_ring2[0],st1_ring2[1],dPhi12[0],dPhi12[1],dPhi13[0],dPhi13[1],dPhi14[0],dPhi14[1],dPhi23[0],dPhi23[1],dPhi24[0],dPhi24[1],dPhi34[0],dPhi34[1],dTheta12[0],dTheta12[1],dTheta13[0],dTheta13[1],dTheta14[0],dTheta14[1],dTheta23[0],dTheta23[1],dTheta24[0],dTheta24[1],dTheta34[0],dTheta34[1],dPhiS4[0],dPhiS4[1],dPhiS4A[0],dPhiS4A[1],dPhiS3[0],dPhiS3[1],dPhiS3A[0],dPhiS3A[1],clct1[0],clct1[1],clct2[0],clct2[1],clct3[0],clct3[1],clct4[0],clct4[1],fr1[0],fr1[1],fr2[0],fr2[1],fr3[0],fr3[1],fr4[0],fr4[1],rpc1[0],rpc1[1],rpc2[0],rpc2[1],rpc3[0],rpc3[1],rpc4[0],rpc4[1]', u'0,3,190.5,157,111.359,91.7478,92.8995,92.8995,1.78499,-1.78499,-1.76436,1.76436,-123.967,54.3333,0.963881,-2.17771,443838729,443891725,14,14,9,9,0,0,9,13,11,13,-470,470,2,0,-136,136,-136,136,3,2,3,2,0,0,4,4,0,0,0,0,1576858041,1576858041,32765,32765,536086256,536086256,0,0,1,1,1,1,1,1,-99,-99,0,1,0,0,1,1,-99,-99,0,0,0,0,0,0,-99,-99']\n"
      }
     ],
     "prompt_number": 4
    },
    {
     "cell_type": "code",
     "collapsed": false,
     "input": "#import com.databricks:spark-csv_2.11:1.5.0\n\ndf2 = (sqlContext\n                         .read.format('com.databricks.spark.csv')\n                         .options(delimiter=',',header='true',inferschema='true')\n                         .load(\"/home/kkotov/work/trigger/pt/oldSim.csv\"))\ndf2.take(3)",
     "language": "python",
     "metadata": {},
     "outputs": [
      {
       "metadata": {},
       "output_type": "pyout",
       "prompt_number": 19,
       "text": "[Row(entry=0, numberOfEMTFTracks=3, pt[0]=190.5, pt[1]=157.0, ptXML[0]=111.359, ptXML[1]=91.7478, muPtGen[0]=92.8995, muPtGen[1]=92.8995, eta_glob[0]=1.78499, eta_glob[1]=-1.78499, muEtaGen[0]=-1.76436, muEtaGen[1]=1.76436, phi_glob[0]=-123.967, phi_glob[1]=54.3333, muPhiGen[0]=0.963881, muPhiGen[1]=-2.17771, address[0]=443838729, address[1]=443891725, mode[0]=14, mode[1]=14, theta[0]=9, theta[1]=9, st1_ring2[0]=0, st1_ring2[1]=0, dPhi12[0]=9, dPhi12[1]=13, dPhi13[0]=11, dPhi13[1]=13, dPhi14[0]=-470, dPhi14[1]=470, dPhi23[0]=2, dPhi23[1]=0, dPhi24[0]=-136, dPhi24[1]=136, dPhi34[0]=-136, dPhi34[1]=136, dTheta12[0]=3, dTheta12[1]=2, dTheta13[0]=3, dTheta13[1]=2, dTheta14[0]=0, dTheta14[1]=0, dTheta23[0]=4, dTheta23[1]=4, dTheta24[0]=0, dTheta24[1]=0, dTheta34[0]=0, dTheta34[1]=0, dPhiS4[0]=1576858041, dPhiS4[1]=1576858041, dPhiS4A[0]=32765, dPhiS4A[1]=32765, dPhiS3[0]=536086256, dPhiS3[1]=536086256, dPhiS3A[0]=0, dPhiS3A[1]=0, clct1[0]=1, clct1[1]=1, clct2[0]=1, clct2[1]=1, clct3[0]=1, clct3[1]=1, clct4[0]=-99, clct4[1]=-99, fr1[0]=0, fr1[1]=1, fr2[0]=0, fr2[1]=0, fr3[0]=1, fr3[1]=1, fr4[0]=-99, fr4[1]=-99, rpc1[0]=0, rpc1[1]=0, rpc2[0]=0, rpc2[1]=0, rpc3[0]=0, rpc3[1]=0, rpc4[0]=-99, rpc4[1]=-99),\n Row(entry=1, numberOfEMTFTracks=0, pt[0]=0.0, pt[1]=0.0, ptXML[0]=0.0, ptXML[1]=0.0, muPtGen[0]=296.637, muPtGen[1]=296.637, eta_glob[0]=0.0, eta_glob[1]=0.0, muEtaGen[0]=0.717511, muEtaGen[1]=-0.717511, phi_glob[0]=0.0, phi_glob[1]=0.0, muPhiGen[0]=-0.765505, muPhiGen[1]=2.37609, address[0]=443838729, address[1]=443891725, mode[0]=0, mode[1]=0, theta[0]=0, theta[1]=0, st1_ring2[0]=0, st1_ring2[1]=0, dPhi12[0]=0, dPhi12[1]=0, dPhi13[0]=0, dPhi13[1]=0, dPhi14[0]=0, dPhi14[1]=0, dPhi23[0]=0, dPhi23[1]=0, dPhi24[0]=0, dPhi24[1]=0, dPhi34[0]=0, dPhi34[1]=0, dTheta12[0]=0, dTheta12[1]=0, dTheta13[0]=0, dTheta13[1]=0, dTheta14[0]=0, dTheta14[1]=0, dTheta23[0]=0, dTheta23[1]=0, dTheta24[0]=0, dTheta24[1]=0, dTheta34[0]=0, dTheta34[1]=0, dPhiS4[0]=0, dPhiS4[1]=0, dPhiS4A[0]=0, dPhiS4A[1]=0, dPhiS3[0]=0, dPhiS3[1]=0, dPhiS3A[0]=0, dPhiS3A[1]=0, clct1[0]=0, clct1[1]=0, clct2[0]=0, clct2[1]=0, clct3[0]=0, clct3[1]=0, clct4[0]=0, clct4[1]=0, fr1[0]=0, fr1[1]=0, fr2[0]=0, fr2[1]=0, fr3[0]=0, fr3[1]=0, fr4[0]=0, fr4[1]=0, rpc1[0]=0, rpc1[1]=0, rpc2[0]=0, rpc2[1]=0, rpc3[0]=0, rpc3[1]=0, rpc4[0]=-99, rpc4[1]=-99),\n Row(entry=2, numberOfEMTFTracks=0, pt[0]=0.0, pt[1]=0.0, ptXML[0]=0.0, ptXML[1]=0.0, muPtGen[0]=33.9727, muPtGen[1]=33.9727, eta_glob[0]=0.0, eta_glob[1]=0.0, muEtaGen[0]=0.57718, muEtaGen[1]=-0.57718, phi_glob[0]=0.0, phi_glob[1]=0.0, muPhiGen[0]=1.16134, muPhiGen[1]=-1.98025, address[0]=443838729, address[1]=443891725, mode[0]=0, mode[1]=0, theta[0]=0, theta[1]=0, st1_ring2[0]=0, st1_ring2[1]=0, dPhi12[0]=0, dPhi12[1]=0, dPhi13[0]=0, dPhi13[1]=0, dPhi14[0]=0, dPhi14[1]=0, dPhi23[0]=0, dPhi23[1]=0, dPhi24[0]=0, dPhi24[1]=0, dPhi34[0]=0, dPhi34[1]=0, dTheta12[0]=0, dTheta12[1]=0, dTheta13[0]=0, dTheta13[1]=0, dTheta14[0]=0, dTheta14[1]=0, dTheta23[0]=0, dTheta23[1]=0, dTheta24[0]=0, dTheta24[1]=0, dTheta34[0]=0, dTheta34[1]=0, dPhiS4[0]=0, dPhiS4[1]=0, dPhiS4A[0]=0, dPhiS4A[1]=0, dPhiS3[0]=0, dPhiS3[1]=0, dPhiS3A[0]=0, dPhiS3A[1]=0, clct1[0]=0, clct1[1]=0, clct2[0]=0, clct2[1]=0, clct3[0]=0, clct3[1]=0, clct4[0]=0, clct4[1]=0, fr1[0]=0, fr1[1]=0, fr2[0]=0, fr2[1]=0, fr3[0]=0, fr3[1]=0, fr4[0]=0, fr4[1]=0, rpc1[0]=0, rpc1[1]=0, rpc2[0]=0, rpc2[1]=0, rpc3[0]=0, rpc3[1]=0, rpc4[0]=-99, rpc4[1]=-99)]"
      }
     ],
     "prompt_number": 19
    },
    {
     "cell_type": "code",
     "collapsed": false,
     "input": "from pyspark.sql.types import *\n\ncustomSchema = StructType([ \\\n    StructField(\"entry\", IntegerType(), True), \\\n    StructField(\"umberOfEMTFTracks\", IntegerType(), True), \\\n    StructField(\"pt[0]\", FloatType(), True), \\\n    StructField(\"pt[1]\", FloatType(), True), \\\n    StructField(\"ptXML[0]\", FloatType(), True), \\\n    StructField(\"ptXML[1]\", FloatType(), True), \\\n    StructField(\"muPtGen[0]\", FloatType(), True), \\\n    StructField(\"muPtGen[1]\", FloatType(), True), \\\n    StructField(\"eta_glob[0]\", FloatType(), True), \\\n    StructField(\"eta_glob[1]\", FloatType(), True), \\\n    StructField(\"muEtaGen[0]\", FloatType(), True), \\\n    StructField(\"muEtaGen[1]\", FloatType(), True), \\\n    StructField(\"phi_glob[0]\", FloatType(), True), \\\n    StructField(\"phi_glob[1]\", FloatType(), True), \\\n    StructField(\"muPhiGen[0]\", FloatType(), True), \\\n    StructField(\"muPhiGen[1]\", FloatType(), True), \\\n    StructField(\"address[0]\", IntegerType(), True), \\\n    StructField(\"address[1]\", IntegerType(), True), \\\n    StructField(\"mode[0]\", IntegerType(), True), \\\n    StructField(\"mode[1]\", IntegerType(), True), \\\n    StructField(\"theta[0]\", FloatType(), True), \\\n    StructField(\"theta[1]\", FloatType(), True), \\\n    StructField(\"st1_ring2[0]\", IntegerType(), True), \\\n    StructField(\"st1_ring2[1]\", IntegerType(), True), \\\n    StructField(\"dPhi12[0]\", IntegerType(), True), \\\n    StructField(\"dPhi12[1]\", IntegerType(), True), \\\n    StructField(\"dPhi13[0]\", IntegerType(), True), \\\n    StructField(\"dPhi13[1]\", IntegerType(), True), \\\n    StructField(\"dPhi14[0]\", IntegerType(), True), \\\n    StructField(\"dPhi14[1]\", IntegerType(), True), \\\n    StructField(\"dPhi23[0]\", IntegerType(), True), \\\n    StructField(\"dPhi23[1]\", IntegerType(), True), \\\n    StructField(\"dPhi24[0]\", IntegerType(), True), \\\n    StructField(\"dPhi24[1]\", IntegerType(), True), \\\n    StructField(\"dPhi34[0]\", IntegerType(), True), \\\n    StructField(\"dPhi34[1]\", IntegerType(), True), \\\n    StructField(\"dTheta12[0]\", IntegerType(), True), \\\n    StructField(\"dTheta12[1]\", IntegerType(), True), \\\n    StructField(\"dTheta13[0]\", IntegerType(), True), \\\n    StructField(\"dTheta13[1]\", IntegerType(), True), \\\n    StructField(\"dTheta14[0]\", IntegerType(), True), \\\n    StructField(\"dTheta14[1]\", IntegerType(), True), \\\n    StructField(\"dTheta23[0]\", IntegerType(), True), \\\n    StructField(\"dTheta23[1]\", IntegerType(), True), \\\n    StructField(\"dTheta24[0]\", IntegerType(), True), \\\n    StructField(\"dTheta24[1]\", IntegerType(), True), \\\n    StructField(\"dTheta34[0]\", IntegerType(), True), \\\n    StructField(\"dTheta34[1]\", IntegerType(), True), \\\n    StructField(\"dPhiS4[0]\", IntegerType(), True), \\\n    StructField(\"dPhiS4[1]\", IntegerType(), True), \\\n    StructField(\"dPhiS4A[0]\", IntegerType(), True), \\\n    StructField(\"dPhiS4A[1]\", IntegerType(), True), \\\n    StructField(\"dPhiS3[0]\", IntegerType(), True), \\\n    StructField(\"dPhiS3[1]\", IntegerType(), True), \\\n    StructField(\"dPhiS3A[0]\", IntegerType(), True), \\\n    StructField(\"dPhiS3A[1]\", IntegerType(), True), \\\n    StructField(\"clct1[0]\", IntegerType(), True), \\\n    StructField(\"clct1[1]\", IntegerType(), True), \\\n    StructField(\"clct2[0]\", IntegerType(), True), \\\n    StructField(\"clct2[1]\", IntegerType(), True), \\\n    StructField(\"clct3[0]\", IntegerType(), True), \\\n    StructField(\"clct3[1]\", IntegerType(), True), \\\n    StructField(\"clct4[0]\", IntegerType(), True), \\\n    StructField(\"clct4[1]\", IntegerType(), True), \\\n    StructField(\"fr1[0]\", IntegerType(), True), \\\n    StructField(\"fr1[1]\", IntegerType(), True), \\\n    StructField(\"fr2[0]\", IntegerType(), True), \\\n    StructField(\"fr2[1]\", IntegerType(), True), \\\n    StructField(\"fr3[0]\", IntegerType(), True), \\\n    StructField(\"fr3[1]\", IntegerType(), True), \\\n    StructField(\"fr4[0]\", IntegerType(), True), \\\n    StructField(\"fr4[1]\", IntegerType(), True), \\\n    StructField(\"rpc1[0]\", IntegerType(), True), \\\n    StructField(\"rpc1[1]\", IntegerType(), True), \\\n    StructField(\"rpc2[0]\", IntegerType(), True), \\\n    StructField(\"rpc2[1]\", IntegerType(), True), \\\n    StructField(\"rpc3[0]\", IntegerType(), True), \\\n    StructField(\"rpc3[1]\", IntegerType(), True), \\\n    StructField(\"rpc4[0]\", IntegerType(), True), \\\n    StructField(\"rpc4[1]\", IntegerType(), True) \\\n    ])\n\ndf3 = (sqlContext\n                         .read.format('com.databricks.spark.csv')\n                         .options(delimiter=',',header='true',inferschema='true')\n                         .load(\"/home/kkotov/work/trigger/pt/oldSim.csv\", schema = customSchema))\ndf3.take(3)\n",
     "language": "python",
     "metadata": {},
     "outputs": [
      {
       "metadata": {},
       "output_type": "pyout",
       "prompt_number": 22,
       "text": "[Row(entry=0, umberOfEMTFTracks=3, pt[0]=190.5, pt[1]=157.0, ptXML[0]=111.35900115966797, ptXML[1]=91.747802734375, muPtGen[0]=92.89949798583984, muPtGen[1]=92.89949798583984, eta_glob[0]=1.7849899530410767, eta_glob[1]=-1.7849899530410767, muEtaGen[0]=-1.764359951019287, muEtaGen[1]=1.764359951019287, phi_glob[0]=-123.96700286865234, phi_glob[1]=54.33330154418945, muPhiGen[0]=0.9638810157775879, muPhiGen[1]=-2.1777100563049316, address[0]=443838729, address[1]=443891725, mode[0]=14, mode[1]=14, theta[0]=9.0, theta[1]=9.0, st1_ring2[0]=0, st1_ring2[1]=0, dPhi12[0]=9, dPhi12[1]=13, dPhi13[0]=11, dPhi13[1]=13, dPhi14[0]=-470, dPhi14[1]=470, dPhi23[0]=2, dPhi23[1]=0, dPhi24[0]=-136, dPhi24[1]=136, dPhi34[0]=-136, dPhi34[1]=136, dTheta12[0]=3, dTheta12[1]=2, dTheta13[0]=3, dTheta13[1]=2, dTheta14[0]=0, dTheta14[1]=0, dTheta23[0]=4, dTheta23[1]=4, dTheta24[0]=0, dTheta24[1]=0, dTheta34[0]=0, dTheta34[1]=0, dPhiS4[0]=1576858041, dPhiS4[1]=1576858041, dPhiS4A[0]=32765, dPhiS4A[1]=32765, dPhiS3[0]=536086256, dPhiS3[1]=536086256, dPhiS3A[0]=0, dPhiS3A[1]=0, clct1[0]=1, clct1[1]=1, clct2[0]=1, clct2[1]=1, clct3[0]=1, clct3[1]=1, clct4[0]=-99, clct4[1]=-99, fr1[0]=0, fr1[1]=1, fr2[0]=0, fr2[1]=0, fr3[0]=1, fr3[1]=1, fr4[0]=-99, fr4[1]=-99, rpc1[0]=0, rpc1[1]=0, rpc2[0]=0, rpc2[1]=0, rpc3[0]=0, rpc3[1]=0, rpc4[0]=-99, rpc4[1]=-99),\n Row(entry=1, umberOfEMTFTracks=0, pt[0]=0.0, pt[1]=0.0, ptXML[0]=0.0, ptXML[1]=0.0, muPtGen[0]=296.6369934082031, muPtGen[1]=296.6369934082031, eta_glob[0]=0.0, eta_glob[1]=0.0, muEtaGen[0]=0.717510998249054, muEtaGen[1]=-0.717510998249054, phi_glob[0]=0.0, phi_glob[1]=0.0, muPhiGen[0]=-0.7655050158500671, muPhiGen[1]=2.3760900497436523, address[0]=443838729, address[1]=443891725, mode[0]=0, mode[1]=0, theta[0]=0.0, theta[1]=0.0, st1_ring2[0]=0, st1_ring2[1]=0, dPhi12[0]=0, dPhi12[1]=0, dPhi13[0]=0, dPhi13[1]=0, dPhi14[0]=0, dPhi14[1]=0, dPhi23[0]=0, dPhi23[1]=0, dPhi24[0]=0, dPhi24[1]=0, dPhi34[0]=0, dPhi34[1]=0, dTheta12[0]=0, dTheta12[1]=0, dTheta13[0]=0, dTheta13[1]=0, dTheta14[0]=0, dTheta14[1]=0, dTheta23[0]=0, dTheta23[1]=0, dTheta24[0]=0, dTheta24[1]=0, dTheta34[0]=0, dTheta34[1]=0, dPhiS4[0]=0, dPhiS4[1]=0, dPhiS4A[0]=0, dPhiS4A[1]=0, dPhiS3[0]=0, dPhiS3[1]=0, dPhiS3A[0]=0, dPhiS3A[1]=0, clct1[0]=0, clct1[1]=0, clct2[0]=0, clct2[1]=0, clct3[0]=0, clct3[1]=0, clct4[0]=0, clct4[1]=0, fr1[0]=0, fr1[1]=0, fr2[0]=0, fr2[1]=0, fr3[0]=0, fr3[1]=0, fr4[0]=0, fr4[1]=0, rpc1[0]=0, rpc1[1]=0, rpc2[0]=0, rpc2[1]=0, rpc3[0]=0, rpc3[1]=0, rpc4[0]=-99, rpc4[1]=-99),\n Row(entry=2, umberOfEMTFTracks=0, pt[0]=0.0, pt[1]=0.0, ptXML[0]=0.0, ptXML[1]=0.0, muPtGen[0]=33.97269821166992, muPtGen[1]=33.97269821166992, eta_glob[0]=0.0, eta_glob[1]=0.0, muEtaGen[0]=0.577180027961731, muEtaGen[1]=-0.577180027961731, phi_glob[0]=0.0, phi_glob[1]=0.0, muPhiGen[0]=1.1613399982452393, muPhiGen[1]=-1.9802500009536743, address[0]=443838729, address[1]=443891725, mode[0]=0, mode[1]=0, theta[0]=0.0, theta[1]=0.0, st1_ring2[0]=0, st1_ring2[1]=0, dPhi12[0]=0, dPhi12[1]=0, dPhi13[0]=0, dPhi13[1]=0, dPhi14[0]=0, dPhi14[1]=0, dPhi23[0]=0, dPhi23[1]=0, dPhi24[0]=0, dPhi24[1]=0, dPhi34[0]=0, dPhi34[1]=0, dTheta12[0]=0, dTheta12[1]=0, dTheta13[0]=0, dTheta13[1]=0, dTheta14[0]=0, dTheta14[1]=0, dTheta23[0]=0, dTheta23[1]=0, dTheta24[0]=0, dTheta24[1]=0, dTheta34[0]=0, dTheta34[1]=0, dPhiS4[0]=0, dPhiS4[1]=0, dPhiS4A[0]=0, dPhiS4A[1]=0, dPhiS3[0]=0, dPhiS3[1]=0, dPhiS3A[0]=0, dPhiS3A[1]=0, clct1[0]=0, clct1[1]=0, clct2[0]=0, clct2[1]=0, clct3[0]=0, clct3[1]=0, clct4[0]=0, clct4[1]=0, fr1[0]=0, fr1[1]=0, fr2[0]=0, fr2[1]=0, fr3[0]=0, fr3[1]=0, fr4[0]=0, fr4[1]=0, rpc1[0]=0, rpc1[1]=0, rpc2[0]=0, rpc2[1]=0, rpc3[0]=0, rpc3[1]=0, rpc4[0]=-99, rpc4[1]=-99)]"
      }
     ],
     "prompt_number": 22
    },
    {
     "cell_type": "code",
     "collapsed": false,
     "input": "import mathplotlib ",
     "language": "python",
     "metadata": {},
     "outputs": []
    }
   ],
   "metadata": {}
  }
 ]
}