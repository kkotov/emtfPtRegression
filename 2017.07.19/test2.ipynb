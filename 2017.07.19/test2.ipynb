{
 "metadata": {
  "name": "",
  "signature": "sha256:5d4b3b1028f2f34dba497104a501fad799326d238f29d60d9f3a705a86b17f46"
 },
 "nbformat": 3,
 "nbformat_minor": 0,
 "worksheets": [
  {
   "cells": [
    {
     "cell_type": "code",
     "collapsed": false,
     "input": [
      "#qwe = sc.textFile(\"hdfs://localhost:9000/tmp/oldSim.csv\")\n",
      "#qwe.take(3)\n",
      "\n",
      "df = (sqlContext\n",
      "                         .read.format('com.databricks.spark.csv')\n",
      "                         .options(delimiter=',',header='true',inferschema='true')\n",
      "                         .load(\"hdfs://localhost:9000/tmp/oldSim.csv\"))\n",
      "\n"
     ],
     "language": "python",
     "metadata": {},
     "outputs": [],
     "prompt_number": 1
    },
    {
     "cell_type": "code",
     "collapsed": false,
     "input": [
      "sqlContext.sql(\"DROP TABLE IF EXISTS pt_log\")\n",
      "sqlContext.registerDataFrameAsTable(df,\"pt_log\")\n",
      "\n",
      "#df2 = sqlContext.table(\"pt_log\")\n",
      "#df2.describe()\n",
      "\n",
      "df2 = sqlContext.sql(\"\"\"SELECT `pt[0]` AS pt0 FROM pt_log\"\"\")\n",
      "\n",
      "df2.printSchema()\n",
      "\n",
      "df2.rdd.getNumPartitions()\n",
      "\n",
      "df.select('entry').take(3)\n",
      "df[[\"pt[0]\",\"pt[1]\"]].show(5)\n"
     ],
     "language": "python",
     "metadata": {},
     "outputs": [
      {
       "output_type": "stream",
       "stream": "stdout",
       "text": [
        "root\n",
        " |-- pt0: double (nullable = true)\n",
        "\n",
        "+-----+-----+\n",
        "|pt[0]|pt[1]|\n",
        "+-----+-----+\n",
        "|190.5|157.0|\n",
        "|  0.0|  0.0|\n",
        "|  0.0|  0.0|\n",
        "|163.0|104.5|\n",
        "|  0.0|  0.0|\n",
        "+-----+-----+\n",
        "only showing top 5 rows\n"
       ]
      },
      {
       "output_type": "stream",
       "stream": "stdout",
       "text": [
        "\n"
       ]
      }
     ],
     "prompt_number": 2
    },
    {
     "cell_type": "code",
     "collapsed": false,
     "input": [
      "%matplotlib inline\n",
      "\n",
      "import matplotlib.pyplot as plt\n",
      "import numpy as np\n",
      "\n",
      "plt.close()\n",
      "fig, ax0 = plt.subplots(figsize=(10.5, 6), facecolor='white', edgecolor='white')\n",
      "\n",
      "qwe = df2[ df2.pt0>0 ].collect() #take(10000)\n",
      "\n",
      "ax0.hist( [ i.asDict()['pt0'] for i in qwe ], 100 )\n",
      "pass\n",
      "\n",
      "plt.show()"
     ],
     "language": "python",
     "metadata": {},
     "outputs": [
      {
       "metadata": {},
       "output_type": "display_data",
       "png": "[encoded data removed]",
       "text": [
        "<matplotlib.figure.Figure at 0x7f9e4ab7ae10>"
       ]
      }
     ],
     "prompt_number": 28
    },
    {
     "cell_type": "code",
     "collapsed": false,
     "input": [],
     "language": "python",
     "metadata": {},
     "outputs": []
    }
   ],
   "metadata": {}
  }
 ]
}